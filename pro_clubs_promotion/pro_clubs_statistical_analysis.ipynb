{
 "cells": [
  {
   "cell_type": "markdown",
   "metadata": {},
   "source": [
    "# Fifa 16 Pro Clubs Probabilities"
   ]
  },
  {
   "cell_type": "markdown",
   "metadata": {},
   "source": [
    "This is the story... So, in my pro club, we need to get 5 more wins out of 8 remaining games in order to promote to division 1 from our current division, 2! what are the chances!? well... i always like figuring things out! Lets find out!"
   ]
  },
  {
   "cell_type": "code",
   "execution_count": 1,
   "metadata": {
    "collapsed": true
   },
   "outputs": [],
   "source": [
    "from math import factorial\n",
    "from scipy import linspace\n",
    "from scipy.stats import binom\n",
    "import matplotlib.pyplot as plt\n",
    "import seaborn\n",
    "%matplotlib inline"
   ]
  },
  {
   "cell_type": "markdown",
   "metadata": {},
   "source": [
    "## Win Probability Analysis"
   ]
  },
  {
   "cell_type": "code",
   "execution_count": 2,
   "metadata": {
    "collapsed": false
   },
   "outputs": [
    {
     "name": "stdout",
     "output_type": "stream",
     "text": [
      "1301\n",
      "0.3950807071483474\n",
      "0.19984627209838585\n",
      "0.40507302075326673\n",
      "0.46169613118114267\n"
     ]
    }
   ],
   "source": [
    "win = 514\n",
    "draw = 260\n",
    "loss = 527\n",
    "total = win + draw +loss\n",
    "p_win_raw = win / total\n",
    "p_win = (win+(draw/3)) / total\n",
    "p_draw_raw = draw / total\n",
    "p_loss_raw = loss / total\n",
    "needed_win = 5\n",
    "games_left = 8\n",
    "\n",
    "print(total)\n",
    "print(p_win_raw)\n",
    "print(p_draw_raw)\n",
    "print(p_loss_raw)\n",
    "print(p_win)"
   ]
  },
  {
   "cell_type": "markdown",
   "metadata": {},
   "source": [
    "Here all the basic probabilities are calculated based on our game record. With a limited number or wins, I could already see that the chance of us achieving this was not likely to be high! We've played 1301 of which we can determine that the chance of us winning a game is 39.51%, the chance of us drawing is 19.98% and the chance of losing is 40.51%. \n",
    "\n",
    "I have calculated the probability of us winning based on the points you get for a game. For a win, you earn 3 points for a draw you earn 1 and for a loss you earn 0 points. I have divided the number of draws by 3 to count 3 draws as a win to allow for our draws to count for something! THis probability raises our win probability from 39.51% to 46.17%."
   ]
  },
  {
   "cell_type": "code",
   "execution_count": 3,
   "metadata": {
    "collapsed": true
   },
   "outputs": [],
   "source": [
    "def combo(k,N):\n",
    "    num = factorial(N)\n",
    "    den = factorial(k) * factorial(N-k)\n",
    "    return num / den\n",
    "\n",
    "def prob(p,k,N):\n",
    "    return (p**k)*((1-p)**(N-k))"
   ]
  },
  {
   "cell_type": "markdown",
   "metadata": {},
   "source": [
    "Had to make a couple of functions in order to make it easier to calculate the probability of and event happening k times out of N, where the probability of a single occurance is p. \n",
    "Where;\n",
    "\n",
    "k - The number or target events - in this case 5 wins\n",
    "\n",
    "N - The number of available events - in this case 8 games\n",
    "\n",
    "p - The probabilirt of the target event occuring"
   ]
  },
  {
   "cell_type": "code",
   "execution_count": 4,
   "metadata": {
    "collapsed": false
   },
   "outputs": [
    {
     "name": "stdout",
     "output_type": "stream",
     "text": [
      "0.4617 - is the probability of winning a game\n",
      "\n",
      "0.1833 - chance we get 5 wins only\n",
      "\n",
      "3.6936 - mean number of games likely to win\n",
      "\n",
      "0.2832 - probability of winning 5 or more games\n",
      "\n"
     ]
    }
   ],
   "source": [
    "five_wins = combo(5,8)*prob(p_win,5,8)\n",
    "mean_prob = games_left*p_win\n",
    "outcome_counts = linspace(0,games_left,games_left+1)\n",
    "dist_pmf = binom.pmf(outcome_counts,games_left,p_win)\n",
    "dist_cdf = binom.cdf(outcome_counts,games_left,p_win)\n",
    "cdf_p_four = binom.cdf(4,8,p_win)\n",
    "\n",
    "print('{0:.4f} - is the probability of winning a game\\n'.format(p_win))\n",
    "print('{0:.4f} - chance we get 5 wins only\\n'.format(five_wins))\n",
    "print('{0:.4f} - mean number of games likely to win\\n'.format(mean_prob))\n",
    "print('{0:.4f} - probability of winning 5 or more games\\n'.format(1 - cdf_p_four))"
   ]
  },
  {
   "cell_type": "markdown",
   "metadata": {
    "collapsed": true
   },
   "source": [
    "As mentioned earlier, there is a 46.17% chance of us winning a game.\n",
    "\n",
    "There is only an 18.33% chance that we get 5 wins out of the 8 only, however, there is a 28.32% chance that we can win 5, 6, 7 or 8 games out of 8 which would get us promotion! as we only require an additional 15 points!\n",
    "\n",
    "The average number of wins we are likely to acheive is 3.6936."
   ]
  },
  {
   "cell_type": "markdown",
   "metadata": {
    "collapsed": true
   },
   "source": [
    "### Graphs (Wins)"
   ]
  },
  {
   "cell_type": "code",
   "execution_count": 5,
   "metadata": {
    "collapsed": false,
    "scrolled": true
   },
   "outputs": [
    {
     "data": {
      "image/png": "[encoded data removed]",
      "text/plain": [
       "<matplotlib.figure.Figure at 0x116d28048>"
      ]
     },
     "metadata": {},
     "output_type": "display_data"
    }
   ],
   "source": [
    "plt.bar(outcome_counts, dist_pmf)\n",
    "plt.title('Probability Mass Function')\n",
    "plt.xlabel('k outcomes (out of N)')\n",
    "plt.axvline(mean_prob, c='r')\n",
    "plt.show()"
   ]
  },
  {
   "cell_type": "markdown",
   "metadata": {
    "collapsed": true
   },
   "source": [
    "This shows the probability mass Function. The red line indicates the mean value of 3.6936 wins. This is the expected number of wins that we will get with our current distribution of wins, draws and losses."
   ]
  },
  {
   "cell_type": "code",
   "execution_count": 6,
   "metadata": {
    "collapsed": false
   },
   "outputs": [
    {
     "data": {
      "image/png": "[encoded data removed]",
      "text/plain": [
       "<matplotlib.figure.Figure at 0x116d1acc0>"
      ]
     },
     "metadata": {},
     "output_type": "display_data"
    }
   ],
   "source": [
    "plt.bar(outcome_counts, dist_cdf)\n",
    "plt.title('Cumulative Density Function')\n",
    "plt.xlabel('k outcomes (out of N)')\n",
    "plt.plot(dist_cdf, c='r')\n",
    "plt.show()"
   ]
  },
  {
   "cell_type": "markdown",
   "metadata": {
    "collapsed": true
   },
   "source": [
    "This shows the cumaltive density function. The greatest increase is at the mean at 3 to 4. THis indicates that the majority of the variance occurs between 1 and 5."
   ]
  },
  {
   "cell_type": "markdown",
   "metadata": {},
   "source": [
    "## Probability Analysis (Points View)"
   ]
  },
  {
   "cell_type": "code",
   "execution_count": 7,
   "metadata": {
    "collapsed": false
   },
   "outputs": [
    {
     "name": "stdout",
     "output_type": "stream",
     "text": [
      "0.4616961311811427\n"
     ]
    }
   ],
   "source": [
    "win = 514\n",
    "draw = 260\n",
    "loss = 527\n",
    "total = win+draw+loss\n",
    "\n",
    "win_points = win*3\n",
    "draw_points = draw*1\n",
    "loss_points = 0\n",
    "total_potential_points = total*3\n",
    "points_needed = 15\n",
    "points_available = 24\n",
    "point_probability = (win_points + draw_points)/total_potential_points\n",
    "print(point_probability)"
   ]
  },
  {
   "cell_type": "markdown",
   "metadata": {},
   "source": [
    "The probability of the team gaining a point is 46.17% which reflects our findings in the previews view of the analysis."
   ]
  },
  {
   "cell_type": "code",
   "execution_count": 8,
   "metadata": {
    "collapsed": false
   },
   "outputs": [
    {
     "name": "stdout",
     "output_type": "stream",
     "text": [
      "0.4617 - is the probability of gaining a point\n",
      "\n",
      "0.0458 - chance we get 15 points only\n",
      "\n",
      "11.0807 - mean number of points likely to win\n",
      "\n",
      "0.0808 - probability of winning 15 or more points\n",
      "\n"
     ]
    }
   ],
   "source": [
    "fifteen_points = combo(15,24)*prob(point_probability,15,24)\n",
    "point_mean_prob = points_available*point_probability\n",
    "point_outcome_counts = linspace(0,points_available,points_available+1)\n",
    "point_dist_pmf = binom.pmf(point_outcome_counts,points_available,point_probability)\n",
    "point_dist_cdf = binom.cdf(point_outcome_counts,points_available,point_probability)\n",
    "point_cdf_p_fourteen = binom.cdf(14,24,point_probability)\n",
    "\n",
    "print('{0:.4f} - is the probability of gaining a point\\n'.format(point_probability))\n",
    "print('{0:.4f} - chance we get 15 points only\\n'.format(fifteen_points))\n",
    "print('{0:.4f} - mean number of points likely to win\\n'.format(point_mean_prob))\n",
    "print('{0:.4f} - probability of winning 15 or more points\\n'.format(1 - point_cdf_p_fourteen))"
   ]
  },
  {
   "cell_type": "markdown",
   "metadata": {},
   "source": [
    "### Graphs (Points)"
   ]
  },
  {
   "cell_type": "code",
   "execution_count": 9,
   "metadata": {
    "collapsed": false
   },
   "outputs": [
    {
     "data": {
      "image/png": "[encoded data removed]",
      "text/plain": [
       "<matplotlib.figure.Figure at 0x11966ce80>"
      ]
     },
     "metadata": {},
     "output_type": "display_data"
    }
   ],
   "source": [
    "plt.bar(point_outcome_counts, point_dist_pmf)\n",
    "plt.title('Probability Mass Function')\n",
    "plt.xlabel('k outcomes (out of N)')\n",
    "plt.axvline(point_mean_prob, c='r')\n",
    "plt.show()"
   ]
  },
  {
   "cell_type": "markdown",
   "metadata": {},
   "source": [
    "This shows probability mass function for the points. This shows that the mean number of points likely to be won is 11.08 which reflects the 3.6936 wins that we found in the previous analysis."
   ]
  },
  {
   "cell_type": "code",
   "execution_count": 10,
   "metadata": {
    "collapsed": false
   },
   "outputs": [
    {
     "data": {
      "image/png": "[encoded data removed]",
      "text/plain": [
       "<matplotlib.figure.Figure at 0x119921320>"
      ]
     },
     "metadata": {},
     "output_type": "display_data"
    }
   ],
   "source": [
    "plt.bar(point_outcome_counts, point_dist_cdf)\n",
    "plt.title('Cumulative Density Function')\n",
    "plt.xlabel('k outcomes (out of N)')\n",
    "plt.plot(point_dist_cdf, c='r')\n",
    "plt.show()"
   ]
  },
  {
   "cell_type": "markdown",
   "metadata": {},
   "source": [
    "This shows the cumulative density function. The majority of the variance is between 7 and 15, meaning that this region is where the majority of the probabilities lie as the curve plateaus around 15/16."
   ]
  },
  {
   "cell_type": "markdown",
   "metadata": {},
   "source": [
    "## Conclusion"
   ]
  },
  {
   "cell_type": "markdown",
   "metadata": {},
   "source": [
    "To conclude, it doesn't look great! the odds are stacked against us, but not too drastically... we'll just have to wait and see! With the probability of us winning 5 or more games at 28.32%, that may not be a great motivator to the rest of the team but there is still a chance\n",
    "\n",
    "Looking at the point cumulative density function, it's quite a steep slope to climb for promotion! With the mean points expected to earn in these remaining 24 games at 11.08. We will have to earn an additional 4 points, meaning we should be pushing for 2 wins when it looks like we're likely to draw twice to get the points required.\n",
    "\n",
    "The points view is limited in that it assumes that each point is achieved as an individual event when we know that that isn't the case. Points are earned in 3's and 1's. The previous analysis takes this into account.\n",
    "\n",
    "More insight into our games would be useful so that we are able to identify our weaknesses as to know where we can further develop and our strengths so we know what stratgeies to play when approaching games."
   ]
  }
 ],
 "metadata": {
  "kernelspec": {
   "display_name": "Python 3",
   "language": "python",
   "name": "python3"
  },
  "language_info": {
   "codemirror_mode": {
    "name": "ipython",
    "version": 3
   },
   "file_extension": ".py",
   "mimetype": "text/x-python",
   "name": "python",
   "nbconvert_exporter": "python",
   "pygments_lexer": "ipython3",
   "version": "3.5.1"
  }
 },
 "nbformat": 4,
 "nbformat_minor": 0
}
