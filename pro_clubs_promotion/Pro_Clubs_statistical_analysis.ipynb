{
 "cells": [
  {
   "cell_type": "markdown",
   "metadata": {},
   "source": [
    "# Fifa 16 Pro Clubs Probabilities"
   ]
  },
  {
   "cell_type": "markdown",
   "metadata": {},
   "source": [
    "This is the story... So, in my pro club, we need to get 5 more wins out of 8 remaining games in order to promote to division 1 from our current division, 2! what are the chances!? well... i always like figuring things out! Lets find out!"
   ]
  },
  {
   "cell_type": "code",
   "execution_count": 1,
   "metadata": {
    "collapsed": true
   },
   "outputs": [],
   "source": [
    "from math import factorial\n",
    "from scipy import linspace\n",
    "from scipy.stats import binom\n",
    "import matplotlib.pyplot as plt\n",
    "import seaborn\n",
    "%matplotlib inline"
   ]
  },
  {
   "cell_type": "markdown",
   "metadata": {},
   "source": [
    "## Win Probability Analysis"
   ]
  },
  {
   "cell_type": "code",
   "execution_count": 2,
   "metadata": {
    "collapsed": false
   },
   "outputs": [
    {
     "name": "stdout",
     "output_type": "stream",
     "text": [
      "1301\n",
      "0.3950807071483474\n",
      "0.19984627209838585\n",
      "0.40507302075326673\n"
     ]
    }
   ],
   "source": [
    "win = 514\n",
    "draw = 260\n",
    "loss = 527\n",
    "total = win + draw +loss\n",
    "p_win = win / total\n",
    "p_draw = draw / total\n",
    "p_loss = loss / total\n",
    "needed_win = 5\n",
    "games_left = 8\n",
    "\n",
    "print(total)\n",
    "print(p_win)\n",
    "print(p_draw)\n",
    "print(p_loss)"
   ]
  },
  {
   "cell_type": "markdown",
   "metadata": {},
   "source": [
    "Here all the basic probabilities are calculated based on our game record. With a limited number or wins, I could already see that the chance of us achieving this was not likely to be high! We've played 1301 of which we can determine that the chance of us winning a game is 39.51%, the chance of us drawing is 19.98% and the chance of losing is 40.51%."
   ]
  },
  {
   "cell_type": "code",
   "execution_count": 3,
   "metadata": {
    "collapsed": true
   },
   "outputs": [],
   "source": [
    "def combo(k,N):\n",
    "    num = factorial(N)\n",
    "    den = factorial(k) * factorial(N-k)\n",
    "    return num / den\n",
    "\n",
    "def prob(p,k,N):\n",
    "    return (p**k)*((1-p)**(N-k))"
   ]
  },
  {
   "cell_type": "markdown",
   "metadata": {},
   "source": [
    "Had to make a couple of functions in order to make it easier to calculate the probability of and event happening k times out of N, where the probability of a single occurance is p. \n",
    "Where;\n",
    "\n",
    "k - The number or target events - in this case 5 wins\n",
    "\n",
    "N - The number of available events - in this case 8 games\n",
    "\n",
    "p - The probabilirt of the target event occuring"
   ]
  },
  {
   "cell_type": "code",
   "execution_count": 4,
   "metadata": {
    "collapsed": false
   },
   "outputs": [
    {
     "name": "stdout",
     "output_type": "stream",
     "text": [
      "0.3951 - is the probability of winning a game\n",
      "\n",
      "0.1193 - chance we get 5 wins only\n",
      "\n",
      "3.1606 - mean number of games likely to win\n",
      "\n",
      "0.1661 - probability of winning 5 or more games\n",
      "\n"
     ]
    }
   ],
   "source": [
    "five_wins = combo(5,8)*prob(p_win,5,8)\n",
    "mean_prob = games_left*p_win\n",
    "outcome_counts = linspace(0,games_left,games_left+1)\n",
    "dist_pmf = binom.pmf(outcome_counts,games_left,p_win)\n",
    "dist_cdf = binom.cdf(outcome_counts,games_left,p_win)\n",
    "cdf_p_four = binom.cdf(4,8,p_win)\n",
    "\n",
    "print('{0:.4f} - is the probability of winning a game\\n'.format(p_win))\n",
    "print('{0:.4f} - chance we get 5 wins only\\n'.format(five_wins))\n",
    "print('{0:.4f} - mean number of games likely to win\\n'.format(mean_prob))\n",
    "print('{0:.4f} - probability of winning 5 or more games\\n'.format(1 - cdf_p_four))"
   ]
  },
  {
   "cell_type": "markdown",
   "metadata": {
    "collapsed": true
   },
   "source": [
    "As mentioned earlier, there is a 39.51% chance of us winning any given game.\n",
    "\n",
    "There is only an 11.93% chance that we get 5 wins out of the 8 only, howeverm there is a 16.61% chance that we can win 5, 6, 7 or 8 games out of 8 which would get us promotion! as we only require an additional 15 points!"
   ]
  },
  {
   "cell_type": "markdown",
   "metadata": {
    "collapsed": true
   },
   "source": [
    "### Graphs (Wins)"
   ]
  },
  {
   "cell_type": "code",
   "execution_count": 5,
   "metadata": {
    "collapsed": false,
    "scrolled": true
   },
   "outputs": [
    {
     "data": {
      "image/png": "[encoded data removed]",
      "text/plain": [
       "<matplotlib.figure.Figure at 0x1174af2b0>"
      ]
     },
     "metadata": {},
     "output_type": "display_data"
    }
   ],
   "source": [
    "plt.bar(outcome_counts, dist_pmf)\n",
    "plt.title('Probability Mass Function')\n",
    "plt.xlabel('k outcomes (out of N)')\n",
    "plt.axvline(mean_prob, c='r')\n",
    "plt.show()"
   ]
  },
  {
   "cell_type": "markdown",
   "metadata": {
    "collapsed": true
   },
   "source": [
    "This shows the probability mass Function. The red line indicates the mean value of 3.161 wins. This is the expected number of wins that we will get with our current distribution of wins, draws and losses."
   ]
  },
  {
   "cell_type": "code",
   "execution_count": 6,
   "metadata": {
    "collapsed": false
   },
   "outputs": [
    {
     "data": {
      "image/png": "[encoded data removed]",
      "text/plain": [
       "<matplotlib.figure.Figure at 0x119d36630>"
      ]
     },
     "metadata": {},
     "output_type": "display_data"
    }
   ],
   "source": [
    "plt.bar(outcome_counts, dist_cdf)\n",
    "plt.title('Cumulative Density Function')\n",
    "plt.xlabel('k outcomes (out of N)')\n",
    "plt.plot(dist_cdf, c='r')\n",
    "plt.show()"
   ]
  },
  {
   "cell_type": "markdown",
   "metadata": {
    "collapsed": true
   },
   "source": [
    "This shows the cumaltive density function. The greatest increase is at the mean at 3. THis indicates that the majority of the variance occurs between 1 and 5."
   ]
  },
  {
   "cell_type": "markdown",
   "metadata": {},
   "source": [
    "## Point Probability Analysis"
   ]
  },
  {
   "cell_type": "code",
   "execution_count": 7,
   "metadata": {
    "collapsed": false
   },
   "outputs": [
    {
     "name": "stdout",
     "output_type": "stream",
     "text": [
      "0.4616961311811427\n"
     ]
    }
   ],
   "source": [
    "win = 514\n",
    "draw = 260\n",
    "loss = 527\n",
    "total = win+draw+loss\n",
    "\n",
    "win_points = win*3\n",
    "draw_points = draw*1\n",
    "loss_points = 0\n",
    "total_potential_points = total*3\n",
    "points_needed = 15\n",
    "points_available = 24\n",
    "point_probability = (win_points + draw_points)/total_potential_points\n",
    "print(point_probability)"
   ]
  },
  {
   "cell_type": "markdown",
   "metadata": {},
   "source": [
    "The probability of the team gaining a point is 46.17%.\n",
    "\n",
    "Let's look at the probability of us getting enough points to promote as we could promote from 4 wins and 3 draws which still falls within the 8 games that we have left! and the added chance of us getting a draw may give us a better chance at promotion!"
   ]
  },
  {
   "cell_type": "code",
   "execution_count": 8,
   "metadata": {
    "collapsed": false
   },
   "outputs": [
    {
     "name": "stdout",
     "output_type": "stream",
     "text": [
      "0.4617 - is the probability of gaining a point\n",
      "\n",
      "0.0458 - chance we get 15 points only\n",
      "\n",
      "11.0807 - mean number of points likely to win\n",
      "\n",
      "0.0808 - probability of winning 15 or more points\n",
      "\n"
     ]
    }
   ],
   "source": [
    "fifteen_points = combo(15,24)*prob(point_probability,15,24)\n",
    "point_mean_prob = points_available*point_probability\n",
    "point_outcome_counts = linspace(0,points_available,points_available+1)\n",
    "point_dist_pmf = binom.pmf(point_outcome_counts,points_available,point_probability)\n",
    "point_dist_cdf = binom.cdf(point_outcome_counts,points_available,point_probability)\n",
    "point_cdf_p_fourteen = binom.cdf(14,24,point_probability)\n",
    "\n",
    "print('{0:.4f} - is the probability of gaining a point\\n'.format(point_probability))\n",
    "print('{0:.4f} - chance we get 15 points only\\n'.format(fifteen_points))\n",
    "print('{0:.4f} - mean number of points likely to win\\n'.format(point_mean_prob))\n",
    "print('{0:.4f} - probability of winning 15 or more points\\n'.format(1 - point_cdf_p_fourteen))"
   ]
  },
  {
   "cell_type": "markdown",
   "metadata": {},
   "source": [
    "### Graphs (Points)"
   ]
  },
  {
   "cell_type": "code",
   "execution_count": 9,
   "metadata": {
    "collapsed": false
   },
   "outputs": [
    {
     "data": {
      "image/png": "[encoded data removed]",
      "text/plain": [
       "<matplotlib.figure.Figure at 0x119e7c0b8>"
      ]
     },
     "metadata": {},
     "output_type": "display_data"
    }
   ],
   "source": [
    "plt.bar(point_outcome_counts, point_dist_pmf)\n",
    "plt.title('Probability Mass Function')\n",
    "plt.xlabel('k outcomes (out of N)')\n",
    "plt.axvline(point_mean_prob, c='r')\n",
    "plt.show()"
   ]
  },
  {
   "cell_type": "markdown",
   "metadata": {},
   "source": [
    "This shows probability mass function for the points. This shows that the mean number of points likely to be won is 11.08. This is just above the expected value from using the win-draw-loss system and only looking at wins. The previous analysis showed that 3.1606 games would be won resulting in 9.4818 points. The point analysis takes into account the chance of drawing, hence why there are more points."
   ]
  },
  {
   "cell_type": "code",
   "execution_count": 10,
   "metadata": {
    "collapsed": false
   },
   "outputs": [
    {
     "data": {
      "image/png": "[encoded data removed]",
      "text/plain": [
       "<matplotlib.figure.Figure at 0x119ddd860>"
      ]
     },
     "metadata": {},
     "output_type": "display_data"
    }
   ],
   "source": [
    "plt.bar(point_outcome_counts, point_dist_cdf)\n",
    "plt.title('Cumulative Density Function')\n",
    "plt.xlabel('k outcomes (out of N)')\n",
    "plt.plot(point_dist_cdf, c='r')\n",
    "plt.show()"
   ]
  },
  {
   "cell_type": "markdown",
   "metadata": {},
   "source": [
    "This shows the cumulative density function. The majority of the variance is between 7 and 15, meaning that this region is where the majority of the probabilities lie as the curve plateaus around 15/16."
   ]
  },
  {
   "cell_type": "markdown",
   "metadata": {},
   "source": [
    "## Conclusion"
   ]
  },
  {
   "cell_type": "markdown",
   "metadata": {},
   "source": [
    "To conclude, it doesn't look great! the odds are stacked against us, but not too drastically... we'll just have to wait and see! With the probability of us winning 5 or more games at 16.61%, that may not be a great motivator to the rest of the team!\n",
    "\n",
    "Looking at the point cumulative density function, it's quite a steep slope to climb for promotion! With the mean points expected to earn in these remaining 24 games at 11.08. We will have to earn an additional 4 points, meaning we should be pushing for 2 wins when it looks like we're likely to draw twice to get the points required.\n",
    "\n",
    "More insight into our games would be useful so that we are able to identify our weaknesses as to know where we can further develop and our strengths so we know what stratgeies to play when approaching games."
   ]
  }
 ],
 "metadata": {
  "kernelspec": {
   "display_name": "Python 3",
   "language": "python",
   "name": "python3"
  },
  "language_info": {
   "codemirror_mode": {
    "name": "ipython",
    "version": 3
   },
   "file_extension": ".py",
   "mimetype": "text/x-python",
   "name": "python",
   "nbconvert_exporter": "python",
   "pygments_lexer": "ipython3",
   "version": "3.5.1"
  }
 },
 "nbformat": 4,
 "nbformat_minor": 0
}
